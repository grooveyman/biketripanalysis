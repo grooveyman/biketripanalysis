{
 "cells": [
  {
   "cell_type": "markdown",
   "metadata": {
    "slideshow": {
     "slide_type": "slide"
    }
   },
   "source": [
    "# WHEN AND WHICH USER TOOK MOST TRIPS\n",
    "## by Emmanuel De-Graft"
   ]
  },
  {
   "cell_type": "markdown",
   "metadata": {
    "slideshow": {
     "slide_type": "slide"
    }
   },
   "source": [
    "\n",
    "## Investigation Overview\n",
    "\n",
    "The dataset shows that all riders started their trips in the month of February and ended in the month of March.\n",
    "In the investigation, I looked at that the days of the week and the day of the month where most riders started and ended their trips. I also looked at the type of user (Subscriber or Customer) who took the most trips as well as the age of the riders.\n",
    "\n",
    "\n",
    "## Dataset Overview\n",
    "\n",
    "The dataset include the trips duration and features for about 175,070 trips. The features include start date, end date, member gender, user type. I extrapolated the day of the week, the day of the month and the hour of day from the date as well as the member age from the member date of birth and the start date. 8,342 data points were removed from the dataset during wrangling because of empty values and inconsistent data."
   ]
  },
  {
   "cell_type": "code",
   "execution_count": 16,
   "metadata": {
    "slideshow": {
     "slide_type": "skip"
    }
   },
   "outputs": [],
   "source": [
    "# import all packages and set plots to be embedded inline\n",
    "import numpy as np\n",
    "import pandas as pd\n",
    "import matplotlib.pyplot as plt\n",
    "import seaborn as sb\n",
    "\n",
    "%matplotlib inline\n",
    "\n",
    "# suppress warnings from final output\n",
    "import warnings\n",
    "warnings.simplefilter(\"ignore\")"
   ]
  },
  {
   "cell_type": "code",
   "execution_count": 17,
   "metadata": {
    "slideshow": {
     "slide_type": "skip"
    }
   },
   "outputs": [],
   "source": [
    "# load in the dataset into a pandas dataframe\n",
    "trips = pd.read_csv(\"fordgobike-tripdata.csv\", sep=\",\")"
   ]
  },
  {
   "cell_type": "code",
   "execution_count": 18,
   "metadata": {
    "slideshow": {
     "slide_type": "skip"
    }
   },
   "outputs": [],
   "source": [
    "#Data wrangling process\n",
    "\n",
    "#remove lattitude and longitude\n",
    "trips.drop(['start_station_latitude', 'start_station_longitude', 'end_station_latitude', 'end_station_longitude'], axis=1, inplace=True)\n"
   ]
  },
  {
   "cell_type": "code",
   "execution_count": 19,
   "metadata": {
    "slideshow": {
     "slide_type": "skip"
    }
   },
   "outputs": [],
   "source": [
    "#Convert datetime from string to datetime\n",
    "trips['start_time'] = pd.to_datetime(trips['start_time'])\n",
    "trips['end_time'] = pd.to_datetime(trips['end_time'])"
   ]
  },
  {
   "cell_type": "code",
   "execution_count": 20,
   "metadata": {
    "slideshow": {
     "slide_type": "skip"
    }
   },
   "outputs": [],
   "source": [
    "#drop null values for member birth year\n",
    "trips.dropna(subset=['member_birth_year'], inplace=True)\n",
    "\n",
    "#convert member_birth_year to int64\n",
    "trips['member_birth_year'] = trips['member_birth_year'].astype(np.int64)\n"
   ]
  },
  {
   "cell_type": "code",
   "execution_count": 22,
   "metadata": {
    "slideshow": {
     "slide_type": "skip"
    }
   },
   "outputs": [],
   "source": [
    "#get start and end year, month, day and hour\n",
    "start_times = ['start_year', 'start_month', 'start_day','start_hour']\n",
    "end_times = ['end_year', 'end_month', 'end_day','end_hour']\n",
    "\n",
    "trips['start_year'] = pd.DatetimeIndex(trips['start_time']).year\n",
    "trips['start_month'] = pd.DatetimeIndex(trips['start_time']).month\n",
    "trips['start_day'] = pd.DatetimeIndex(trips['start_time']).day_name()\n",
    "trips['start_day_of_month'] = pd.DatetimeIndex(trips['start_time']).day\n",
    "trips['start_hour'] = pd.DatetimeIndex(trips['start_time']).hour\n",
    "trips['end_year'] = pd.DatetimeIndex(trips['end_time']).year\n",
    "trips['end_month'] = pd.DatetimeIndex(trips['end_time']).month\n",
    "trips['end_day'] = pd.DatetimeIndex(trips['end_time']).day_name()\n",
    "trips['end_day_of_month'] = pd.DatetimeIndex(trips['end_time']).day\n",
    "trips['end_hour'] = pd.DatetimeIndex(trips['end_time']).hour\n",
    "\n",
    "#remove start time and end time\n",
    "trips.drop(['start_time', 'end_time'], axis=1, inplace=True)"
   ]
  },
  {
   "cell_type": "code",
   "execution_count": 23,
   "metadata": {
    "slideshow": {
     "slide_type": "skip"
    }
   },
   "outputs": [],
   "source": [
    "#get member age from birth year and start year\n",
    "trips['member_age'] = trips['start_year'] - trips['member_birth_year']\n",
    "\n",
    "#Remove age beyond 90 (life expectancy in San Francisco is 83 years : https://sf.gov/data/health-disparities-dashboard#:~:text=Overall%20Life%20Expectancy%20is%20high,Francisco%20has%20decreased%20since%202014.)\n",
    "trips.drop(trips[trips['member_age'] >= 90].index, inplace=True)\n"
   ]
  },
  {
   "cell_type": "code",
   "execution_count": 24,
   "metadata": {
    "slideshow": {
     "slide_type": "skip"
    }
   },
   "outputs": [],
   "source": [
    "trips['duration_min'] = round(trips['duration_sec']/60, 2)"
   ]
  },
  {
   "cell_type": "code",
   "execution_count": 25,
   "metadata": {
    "slideshow": {
     "slide_type": "skip"
    }
   },
   "outputs": [
    {
     "data": {
      "text/html": [
       "<div>\n",
       "<style scoped>\n",
       "    .dataframe tbody tr th:only-of-type {\n",
       "        vertical-align: middle;\n",
       "    }\n",
       "\n",
       "    .dataframe tbody tr th {\n",
       "        vertical-align: top;\n",
       "    }\n",
       "\n",
       "    .dataframe thead th {\n",
       "        text-align: right;\n",
       "    }\n",
       "</style>\n",
       "<table border=\"1\" class=\"dataframe\">\n",
       "  <thead>\n",
       "    <tr style=\"text-align: right;\">\n",
       "      <th></th>\n",
       "      <th>duration_sec</th>\n",
       "      <th>start_station_id</th>\n",
       "      <th>start_station_name</th>\n",
       "      <th>end_station_id</th>\n",
       "      <th>end_station_name</th>\n",
       "      <th>bike_id</th>\n",
       "      <th>user_type</th>\n",
       "      <th>member_birth_year</th>\n",
       "      <th>member_gender</th>\n",
       "      <th>bike_share_for_all_trip</th>\n",
       "      <th>...</th>\n",
       "      <th>start_day</th>\n",
       "      <th>start_day_of_month</th>\n",
       "      <th>start_hour</th>\n",
       "      <th>end_year</th>\n",
       "      <th>end_month</th>\n",
       "      <th>end_day</th>\n",
       "      <th>end_day_of_month</th>\n",
       "      <th>end_hour</th>\n",
       "      <th>member_age</th>\n",
       "      <th>duration_min</th>\n",
       "    </tr>\n",
       "  </thead>\n",
       "  <tbody>\n",
       "    <tr>\n",
       "      <th>0</th>\n",
       "      <td>52185</td>\n",
       "      <td>21.0</td>\n",
       "      <td>Montgomery St BART Station (Market St at 2nd St)</td>\n",
       "      <td>13.0</td>\n",
       "      <td>Commercial St at Montgomery St</td>\n",
       "      <td>4902</td>\n",
       "      <td>Customer</td>\n",
       "      <td>1984</td>\n",
       "      <td>Male</td>\n",
       "      <td>No</td>\n",
       "      <td>...</td>\n",
       "      <td>Thursday</td>\n",
       "      <td>28</td>\n",
       "      <td>17</td>\n",
       "      <td>2019</td>\n",
       "      <td>3</td>\n",
       "      <td>Friday</td>\n",
       "      <td>1</td>\n",
       "      <td>8</td>\n",
       "      <td>35</td>\n",
       "      <td>869.75</td>\n",
       "    </tr>\n",
       "    <tr>\n",
       "      <th>2</th>\n",
       "      <td>61854</td>\n",
       "      <td>86.0</td>\n",
       "      <td>Market St at Dolores St</td>\n",
       "      <td>3.0</td>\n",
       "      <td>Powell St BART Station (Market St at 4th St)</td>\n",
       "      <td>5905</td>\n",
       "      <td>Customer</td>\n",
       "      <td>1972</td>\n",
       "      <td>Male</td>\n",
       "      <td>No</td>\n",
       "      <td>...</td>\n",
       "      <td>Thursday</td>\n",
       "      <td>28</td>\n",
       "      <td>12</td>\n",
       "      <td>2019</td>\n",
       "      <td>3</td>\n",
       "      <td>Friday</td>\n",
       "      <td>1</td>\n",
       "      <td>5</td>\n",
       "      <td>47</td>\n",
       "      <td>1030.90</td>\n",
       "    </tr>\n",
       "    <tr>\n",
       "      <th>3</th>\n",
       "      <td>36490</td>\n",
       "      <td>375.0</td>\n",
       "      <td>Grove St at Masonic Ave</td>\n",
       "      <td>70.0</td>\n",
       "      <td>Central Ave at Fell St</td>\n",
       "      <td>6638</td>\n",
       "      <td>Subscriber</td>\n",
       "      <td>1989</td>\n",
       "      <td>Other</td>\n",
       "      <td>No</td>\n",
       "      <td>...</td>\n",
       "      <td>Thursday</td>\n",
       "      <td>28</td>\n",
       "      <td>17</td>\n",
       "      <td>2019</td>\n",
       "      <td>3</td>\n",
       "      <td>Friday</td>\n",
       "      <td>1</td>\n",
       "      <td>4</td>\n",
       "      <td>30</td>\n",
       "      <td>608.17</td>\n",
       "    </tr>\n",
       "    <tr>\n",
       "      <th>4</th>\n",
       "      <td>1585</td>\n",
       "      <td>7.0</td>\n",
       "      <td>Frank H Ogawa Plaza</td>\n",
       "      <td>222.0</td>\n",
       "      <td>10th Ave at E 15th St</td>\n",
       "      <td>4898</td>\n",
       "      <td>Subscriber</td>\n",
       "      <td>1974</td>\n",
       "      <td>Male</td>\n",
       "      <td>Yes</td>\n",
       "      <td>...</td>\n",
       "      <td>Thursday</td>\n",
       "      <td>28</td>\n",
       "      <td>23</td>\n",
       "      <td>2019</td>\n",
       "      <td>3</td>\n",
       "      <td>Friday</td>\n",
       "      <td>1</td>\n",
       "      <td>0</td>\n",
       "      <td>45</td>\n",
       "      <td>26.42</td>\n",
       "    </tr>\n",
       "    <tr>\n",
       "      <th>5</th>\n",
       "      <td>1793</td>\n",
       "      <td>93.0</td>\n",
       "      <td>4th St at Mission Bay Blvd S</td>\n",
       "      <td>323.0</td>\n",
       "      <td>Broadway at Kearny</td>\n",
       "      <td>5200</td>\n",
       "      <td>Subscriber</td>\n",
       "      <td>1959</td>\n",
       "      <td>Male</td>\n",
       "      <td>No</td>\n",
       "      <td>...</td>\n",
       "      <td>Thursday</td>\n",
       "      <td>28</td>\n",
       "      <td>23</td>\n",
       "      <td>2019</td>\n",
       "      <td>3</td>\n",
       "      <td>Friday</td>\n",
       "      <td>1</td>\n",
       "      <td>0</td>\n",
       "      <td>60</td>\n",
       "      <td>29.88</td>\n",
       "    </tr>\n",
       "  </tbody>\n",
       "</table>\n",
       "<p>5 rows × 22 columns</p>\n",
       "</div>"
      ],
      "text/plain": [
       "   duration_sec  start_station_id  \\\n",
       "0         52185              21.0   \n",
       "2         61854              86.0   \n",
       "3         36490             375.0   \n",
       "4          1585               7.0   \n",
       "5          1793              93.0   \n",
       "\n",
       "                                 start_station_name  end_station_id  \\\n",
       "0  Montgomery St BART Station (Market St at 2nd St)            13.0   \n",
       "2                           Market St at Dolores St             3.0   \n",
       "3                           Grove St at Masonic Ave            70.0   \n",
       "4                               Frank H Ogawa Plaza           222.0   \n",
       "5                      4th St at Mission Bay Blvd S           323.0   \n",
       "\n",
       "                               end_station_name  bike_id   user_type  \\\n",
       "0                Commercial St at Montgomery St     4902    Customer   \n",
       "2  Powell St BART Station (Market St at 4th St)     5905    Customer   \n",
       "3                        Central Ave at Fell St     6638  Subscriber   \n",
       "4                         10th Ave at E 15th St     4898  Subscriber   \n",
       "5                            Broadway at Kearny     5200  Subscriber   \n",
       "\n",
       "   member_birth_year member_gender bike_share_for_all_trip  ...  start_day  \\\n",
       "0               1984          Male                      No  ...   Thursday   \n",
       "2               1972          Male                      No  ...   Thursday   \n",
       "3               1989         Other                      No  ...   Thursday   \n",
       "4               1974          Male                     Yes  ...   Thursday   \n",
       "5               1959          Male                      No  ...   Thursday   \n",
       "\n",
       "   start_day_of_month start_hour  end_year  end_month  end_day  \\\n",
       "0                  28         17      2019          3   Friday   \n",
       "2                  28         12      2019          3   Friday   \n",
       "3                  28         17      2019          3   Friday   \n",
       "4                  28         23      2019          3   Friday   \n",
       "5                  28         23      2019          3   Friday   \n",
       "\n",
       "   end_day_of_month end_hour  member_age  duration_min  \n",
       "0                 1        8          35        869.75  \n",
       "2                 1        5          47       1030.90  \n",
       "3                 1        4          30        608.17  \n",
       "4                 1        0          45         26.42  \n",
       "5                 1        0          60         29.88  \n",
       "\n",
       "[5 rows x 22 columns]"
      ]
     },
     "execution_count": 25,
     "metadata": {},
     "output_type": "execute_result"
    }
   ],
   "source": [
    "trips.head()"
   ]
  },
  {
   "cell_type": "markdown",
   "metadata": {
    "slideshow": {
     "slide_type": "slide"
    }
   },
   "source": [
    "## Distribution of the Start day of the Week\n",
    "\n",
    "Start day of the week shows a close marking between Saturday and Sunday in frequency and they are relatively low to the other days of the week. However, Thursday has the highest frequency typifying more riders taking trips on Thursday of the month of February. The distribution is identical for the end day of the week, thus, more riders also completed trips on Thursday of the month of March.\n"
   ]
  },
  {
   "cell_type": "code",
   "execution_count": 36,
   "metadata": {
    "slideshow": {
     "slide_type": "subslide"
    }
   },
   "outputs": [
    {
     "data": {
      "text/plain": [
       "Text(0.5, 1.0, 'Distribution of frequency of end day of the week (March)')"
      ]
     },
     "execution_count": 36,
     "metadata": {},
     "output_type": "execute_result"
    },
    {
     "data": {
      "image/png": "[encoded data removed]",
      "text/plain": [
       "<Figure size 1440x360 with 2 Axes>"
      ]
     },
     "metadata": {
      "needs_background": "light"
     },
     "output_type": "display_data"
    }
   ],
   "source": [
    "#Plot frequency of start day of the week on bar chart\n",
    "daysofWeek = ['Monday','Tuesday','Wednesday','Thursday','Friday','Saturday','Sunday']\n",
    "\n",
    "plt.subplot(1,2,1)\n",
    "trips['start_day'] = pd.Categorical(trips['start_day'], daysofWeek)\n",
    "trips['start_day'].value_counts().sort_index().plot(kind='barh', width=0.7, figsize = (20,5))\n",
    "plt.xlabel(\"Frequency\")\n",
    "plt.ylabel(\"Day of the Week\")\n",
    "plt.title(\"Distribution of frequency of start day of the week (February)\")\n",
    "\n",
    "plt.subplot(1,2,2)\n",
    "#Plot frequency of end day of the week on a bar chart\n",
    "trips['end_day'] = pd.Categorical(trips['end_day'], daysofWeek)\n",
    "trips['end_day'].value_counts().sort_index().plot(kind='barh', width=0.7, figsize = (20,5))\n",
    "plt.xlabel(\"Frequency\")\n",
    "plt.ylabel(\"Day of the Week\")\n",
    "plt.title(\"Distribution of frequency of end day of the week (March)\")"
   ]
  },
  {
   "cell_type": "markdown",
   "metadata": {
    "slideshow": {
     "slide_type": "slide"
    }
   },
   "source": [
    "## Distribution of the Start and End day of the Month\n",
    "From the month of February, there is a group rise and fall consecutively through the days in the month. There is a similar progression in the end month of March. The visualisation shows that mopst riders took rides on the 28th of February and ended on the 28th of March."
   ]
  },
  {
   "cell_type": "code",
   "execution_count": 43,
   "metadata": {
    "slideshow": {
     "slide_type": "subslide"
    }
   },
   "outputs": [
    {
     "data": {
      "text/plain": [
       "Text(0, 0.5, 'Count')"
      ]
     },
     "execution_count": 43,
     "metadata": {},
     "output_type": "execute_result"
    },
    {
     "data": {
      "image/png": "[encoded data removed]",
      "text/plain": [
       "<Figure size 1440x360 with 2 Axes>"
      ]
     },
     "metadata": {
      "needs_background": "light"
     },
     "output_type": "display_data"
    }
   ],
   "source": [
    "#Plot of start day of month\n",
    "plt.subplot(1,2,1)\n",
    "# plt.figsize=[12,5])\n",
    "trips['start_day_of_month'].value_counts().sort_index().plot(kind='bar', width=0.7, figsize = (20,5))\n",
    "plt.xlabel(\"Start Day of Month (February)\")\n",
    "plt.ylabel(\"Count\")\n",
    "\n",
    "plt.subplot(1,2,2)\n",
    "trips['end_day_of_month'].value_counts().sort_index().plot(kind='bar', width=0.7, figsize = (20,5))\n",
    "plt.xlabel(\"End Day of Month (March)\")\n",
    "plt.ylabel(\"Count\")"
   ]
  },
  {
   "cell_type": "markdown",
   "metadata": {
    "collapsed": true,
    "slideshow": {
     "slide_type": "slide"
    }
   },
   "source": [
    "## Distribution of the User Type\n",
    "The user type distribution is visualized on a pie chart with the percentages indicated on their corresponding wedges. The percentage of subscribers is portrayed to have a greater percentage of 81% greater than that of customers. Thus, a greater portion of the riders who took the trip are subscribers."
   ]
  },
  {
   "cell_type": "code",
   "execution_count": 41,
   "metadata": {
    "slideshow": {
     "slide_type": "subslide"
    }
   },
   "outputs": [
    {
     "data": {
      "image/png": "[encoded data removed]",
      "text/plain": [
       "<Figure size 648x504 with 1 Axes>"
      ]
     },
     "metadata": {},
     "output_type": "display_data"
    }
   ],
   "source": [
    "#investigating the user types\n",
    "type_count = trips['user_type'].value_counts()\n",
    "plt.figure(figsize=[9,7])\n",
    "plt.pie(type_count, labels=type_count.index, startangle=90, counterclock=False, autopct=\"%1.1f%%\")\n",
    "plt.legend()\n",
    "plt.title(\"Gender of Bike Riders. Total: 175070 bikers\")\n",
    "plt.show()"
   ]
  },
  {
   "cell_type": "markdown",
   "metadata": {
    "slideshow": {
     "slide_type": "slide"
    }
   },
   "source": [
    "## Distribution of the member age\n",
    "The distribution of the member age is skewed to the right, depicting that the most riders who took trips were between the ages of 20 and 50. The distribution however, has a tail end with less riders within ages greater than 70."
   ]
  },
  {
   "cell_type": "code",
   "execution_count": 53,
   "metadata": {
    "slideshow": {
     "slide_type": "subslide"
    }
   },
   "outputs": [
    {
     "data": {
      "image/png": "[encoded data removed]",
      "text/plain": [
       "<Figure size 720x360 with 1 Axes>"
      ]
     },
     "metadata": {
      "needs_background": "light"
     },
     "output_type": "display_data"
    }
   ],
   "source": [
    "#Investigting the age of riders\n",
    "binsize = 1\n",
    "bins = np.arange(15, trips['member_age'].max()+binsize, binsize)\n",
    "\n",
    "plt.figure(figsize=[10,5])\n",
    "plt.hist(data = trips, x ='member_age', bins = bins)\n",
    "plt.xlabel(\"Age\")\n",
    "plt.ylabel(\"Frequency of ages\")\n",
    "plt.title(\"Distribution of the ages of riders\")\n",
    "plt.show()"
   ]
  },
  {
   "cell_type": "markdown",
   "metadata": {
    "slideshow": {
     "slide_type": "slide"
    }
   },
   "source": [
    "## Distribution of the duration of the average trip\n",
    "After converting the duration from seconds to minutes, the average duration of trips is approximately 11.74 inutes, thus the average trip take about 11.74 minutes."
   ]
  },
  {
   "cell_type": "code",
   "execution_count": 54,
   "metadata": {
    "slideshow": {
     "slide_type": "subslide"
    }
   },
   "outputs": [
    {
     "data": {
      "text/plain": [
       "Text(0.5, 1.0, 'Distribution of average duration of trips')"
      ]
     },
     "execution_count": 54,
     "metadata": {},
     "output_type": "execute_result"
    },
    {
     "data": {
      "image/png": "[encoded data removed]",
      "text/plain": [
       "<Figure size 432x288 with 1 Axes>"
      ]
     },
     "metadata": {
      "needs_background": "light"
     },
     "output_type": "display_data"
    }
   ],
   "source": [
    "n =  trips[['duration_min','start_hour', 'end_day', 'end_hour']].mean()\n",
    "plt.barh(n.index, n.values)\n",
    "plt.xlabel(\"Average\")\n",
    "plt.ylabel(\"Duration\")\n",
    "plt.title(\"Distribution of average duration of trips\")"
   ]
  },
  {
   "cell_type": "code",
   "execution_count": 2,
   "metadata": {
    "slideshow": {
     "slide_type": "skip"
    }
   },
   "outputs": [
    {
     "name": "stderr",
     "output_type": "stream",
     "text": [
      "[NbConvertApp] Converting notebook FORDGOBIKE_TRIPS_PART_II.ipynb to slides\n",
      "[NbConvertApp] Writing 666905 bytes to FORDGOBIKE_TRIPS_PART_II.slides.html\n",
      "[NbConvertApp] Redirecting reveal.js requests to https://cdnjs.cloudflare.com/ajax/libs/reveal.js/3.5.0\n",
      "Traceback (most recent call last):\n",
      "  File \"c:\\users\\deggie\\appdata\\local\\programs\\python\\python39\\lib\\runpy.py\", line 197, in _run_module_as_main\n",
      "    return _run_code(code, main_globals, None,\n",
      "  File \"c:\\users\\deggie\\appdata\\local\\programs\\python\\python39\\lib\\runpy.py\", line 87, in _run_code\n",
      "    exec(code, run_globals)\n",
      "  File \"C:\\Users\\DEGGIE\\AppData\\Local\\Programs\\Python\\Python39\\Scripts\\jupyter-nbconvert.EXE\\__main__.py\", line 7, in <module>\n",
      "  File \"c:\\users\\deggie\\appdata\\local\\programs\\python\\python39\\lib\\site-packages\\jupyter_core\\application.py\", line 264, in launch_instance\n",
      "    return super(JupyterApp, cls).launch_instance(argv=argv, **kwargs)\n",
      "  File \"c:\\users\\deggie\\appdata\\local\\programs\\python\\python39\\lib\\site-packages\\traitlets\\config\\application.py\", line 846, in launch_instance\n",
      "    app.start()\n",
      "  File \"c:\\users\\deggie\\appdata\\local\\programs\\python\\python39\\lib\\site-packages\\nbconvert\\nbconvertapp.py\", line 414, in start\n",
      "    self.convert_notebooks()\n",
      "  File \"c:\\users\\deggie\\appdata\\local\\programs\\python\\python39\\lib\\site-packages\\nbconvert\\nbconvertapp.py\", line 588, in convert_notebooks\n",
      "    self.convert_single_notebook(notebook_filename)\n",
      "  File \"c:\\users\\deggie\\appdata\\local\\programs\\python\\python39\\lib\\site-packages\\nbconvert\\nbconvertapp.py\", line 555, in convert_single_notebook\n",
      "    self.postprocess_single_notebook(write_results)\n",
      "  File \"c:\\users\\deggie\\appdata\\local\\programs\\python\\python39\\lib\\site-packages\\nbconvert\\nbconvertapp.py\", line 525, in postprocess_single_notebook\n",
      "    self.postprocessor(write_results)\n",
      "  File \"c:\\users\\deggie\\appdata\\local\\programs\\python\\python39\\lib\\site-packages\\nbconvert\\postprocessors\\base.py\", line 27, in __call__\n",
      "    self.postprocess(input)\n",
      "  File \"c:\\users\\deggie\\appdata\\local\\programs\\python\\python39\\lib\\site-packages\\nbconvert\\postprocessors\\serve.py\", line 91, in postprocess\n",
      "    http_server.listen(self.port, address=self.ip)\n",
      "  File \"c:\\users\\deggie\\appdata\\local\\programs\\python\\python39\\lib\\site-packages\\tornado\\tcpserver.py\", line 151, in listen\n",
      "    sockets = bind_sockets(port, address=address)\n",
      "  File \"c:\\users\\deggie\\appdata\\local\\programs\\python\\python39\\lib\\site-packages\\tornado\\netutil.py\", line 161, in bind_sockets\n",
      "    sock.bind(sockaddr)\n",
      "OSError: [WinError 10048] Only one usage of each socket address (protocol/network address/port) is normally permitted\n"
     ]
    }
   ],
   "source": [
    "!jupyter nbconvert FORDGOBIKE_TRIPS_PART_II.ipynb --to slides --post serve --no-input --no-prompt"
   ]
  }
 ],
 "metadata": {
  "celltoolbar": "Slideshow",
  "kernelspec": {
   "display_name": "Python 3 (ipykernel)",
   "language": "python",
   "name": "python3"
  },
  "language_info": {
   "codemirror_mode": {
    "name": "ipython",
    "version": 3
   },
   "file_extension": ".py",
   "mimetype": "text/x-python",
   "name": "python",
   "nbconvert_exporter": "python",
   "pygments_lexer": "ipython3",
   "version": "3.9.2"
  }
 },
 "nbformat": 4,
 "nbformat_minor": 2
}
